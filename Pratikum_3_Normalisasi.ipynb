{
  "nbformat": 4,
  "nbformat_minor": 0,
  "metadata": {
    "colab": {
      "provenance": []
    },
    "kernelspec": {
      "name": "python3",
      "display_name": "Python 3"
    },
    "language_info": {
      "name": "python"
    }
  },
  "cells": [
    {
      "cell_type": "code",
      "execution_count": null,
      "metadata": {
        "colab": {
          "base_uri": "https://localhost:8080/"
        },
        "id": "itisL4vFP1SR",
        "outputId": "190c715f-9159-4498-b45c-c727b4aeab8e"
      },
      "outputs": [
        {
          "output_type": "stream",
          "name": "stdout",
          "text": [
            "Data Asli:\n",
            "[[2. 5.]\n",
            " [1. 4.]\n",
            " [3. 6.]]\n",
            "\n",
            "Data setelah Min-Max Scaling:\n",
            "[[0.5 0.5]\n",
            " [0.  0. ]\n",
            " [1.  1. ]]\n"
          ]
        }
      ],
      "source": [
        "import numpy as np\n",
        "from sklearn.preprocessing import MinMaxScaler\n",
        "\n",
        "# Data contoh (ganti dengan data Anda)\n",
        "data = np.array([[2.0, 5.0],\n",
        "                [1.0, 4.0],\n",
        "                [3.0, 6.0]])\n",
        "\n",
        "# Inisialisasi objek MinMaxScaler\n",
        "scaler = MinMaxScaler()\n",
        "\n",
        "# Fit dan transformasi data menggunakan Min-Max Scaling\n",
        "scaled_data = scaler.fit_transform(data)\n",
        "\n",
        "print(\"Data Asli:\")\n",
        "print(data)\n",
        "\n",
        "print(\"\\nData setelah Min-Max Scaling:\")\n",
        "print(scaled_data)"
      ]
    },
    {
      "cell_type": "code",
      "source": [
        "import numpy as np\n",
        "from sklearn.preprocessing import StandardScaler\n",
        "\n",
        "# Data contoh (ganti dengan data Anda)\n",
        "data = np.array([[2.0, 5.0],\n",
        "                [1.0, 4.0],\n",
        "                [3.0, 6.0]])\n",
        "\n",
        "# Inisialisasi objek StandardScaler\n",
        "scaler = StandardScaler()\n",
        "\n",
        "# Fit dan transformasi data menggunakan Z-Score Transformation\n",
        "z_score_data = scaler.fit_transform(data)\n",
        "\n",
        "\n",
        "print(\"Data Asli:\")\n",
        "print(data)\n",
        "\n",
        "print(\"\\nData setelah Z-Score Transformation:\")\n",
        "print(z_score_data)"
      ],
      "metadata": {
        "colab": {
          "base_uri": "https://localhost:8080/"
        },
        "id": "_fpb7kVzRP2G",
        "outputId": "56cdd59f-3737-4c1c-fff3-e48ac13eee38"
      },
      "execution_count": null,
      "outputs": [
        {
          "output_type": "stream",
          "name": "stdout",
          "text": [
            "Data Asli:\n",
            "[[2. 5.]\n",
            " [1. 4.]\n",
            " [3. 6.]]\n",
            "\n",
            "Data setelah Z-Score Transformation:\n",
            "[[ 0.          0.        ]\n",
            " [-1.22474487 -1.22474487]\n",
            " [ 1.22474487  1.22474487]]\n"
          ]
        }
      ]
    },
    {
      "cell_type": "code",
      "source": [
        "import numpy as np\n",
        "\n",
        "# Data contoh (ganti dengan dta Anda)\n",
        "data = np.array([200, 300, 400, 500, 600])\n",
        "\n",
        "# Menentukan faktor penggeseran (saclling factor),\n",
        "# misalnya 1000 untuk mengubah ke rentang 0-1\n",
        "scalling_factor = 1000\n",
        "\n",
        "# Melakukan tranformasi Decimal Scalling\n",
        "scaled_data = data / scalling_factor\n",
        "\n",
        "print(\"Data Asli:\")\n",
        "print(data)\n",
        "\n",
        "print(\"\\nData setelah Decimal Scalling:\")\n",
        "print(scaled_data)"
      ],
      "metadata": {
        "colab": {
          "base_uri": "https://localhost:8080/"
        },
        "id": "RKLCCTxcSWdk",
        "outputId": "ef14dcb1-7cc0-4d80-b355-0df544d57696"
      },
      "execution_count": null,
      "outputs": [
        {
          "output_type": "stream",
          "name": "stdout",
          "text": [
            "Data Asli:\n",
            "[200 300 400 500 600]\n",
            "\n",
            "Data setelah Decimal Scalling:\n",
            "[0.2 0.3 0.4 0.5 0.6]\n"
          ]
        }
      ]
    },
    {
      "cell_type": "code",
      "source": [],
      "metadata": {
        "id": "nz2Ew4PKS4MA"
      },
      "execution_count": null,
      "outputs": []
    }
  ]
}